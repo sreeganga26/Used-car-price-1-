{
 "cells": [
  {
   "cell_type": "code",
   "execution_count": 1,
   "id": "eaa94f35",
   "metadata": {
    "_cell_guid": "b1076dfc-b9ad-4769-8c92-a6c4dae69d19",
    "_uuid": "8f2839f25d086af736a60e9eeb907d3b93b6e0e5",
    "execution": {
     "iopub.execute_input": "2024-02-10T15:02:53.999776Z",
     "iopub.status.busy": "2024-02-10T15:02:53.998835Z",
     "iopub.status.idle": "2024-02-10T15:02:54.872030Z",
     "shell.execute_reply": "2024-02-10T15:02:54.870869Z"
    },
    "papermill": {
     "duration": 0.886452,
     "end_time": "2024-02-10T15:02:54.875397",
     "exception": false,
     "start_time": "2024-02-10T15:02:53.988945",
     "status": "completed"
    },
    "tags": []
   },
   "outputs": [
    {
     "name": "stdout",
     "output_type": "stream",
     "text": [
      "/kaggle/input/used-car-dataset/Used Car Dataset.csv\n"
     ]
    }
   ],
   "source": [
    "# This Python 3 environment comes with many helpful analytics libraries installed\n",
    "# It is defined by the kaggle/python Docker image: https://github.com/kaggle/docker-python\n",
    "# For example, here's several helpful packages to load\n",
    "\n",
    "import numpy as np # linear algebra\n",
    "import pandas as pd # data processing, CSV file I/O (e.g. pd.read_csv)\n",
    "\n",
    "# Input data files are available in the read-only \"../input/\" directory\n",
    "# For example, running this (by clicking run or pressing Shift+Enter) will list all files under the input directory\n",
    "\n",
    "import os\n",
    "for dirname, _, filenames in os.walk('/kaggle/input'):\n",
    "    for filename in filenames:\n",
    "        print(os.path.join(dirname, filename))\n",
    "\n",
    "# You can write up to 20GB to the current directory (/kaggle/working/) that gets preserved as output when you create a version using \"Save & Run All\" \n",
    "# You can also write temporary files to /kaggle/temp/, but they won't be saved outside of the current session"
   ]
  },
  {
   "cell_type": "code",
   "execution_count": 2,
   "id": "6bb44770",
   "metadata": {
    "execution": {
     "iopub.execute_input": "2024-02-10T15:02:54.893495Z",
     "iopub.status.busy": "2024-02-10T15:02:54.892088Z",
     "iopub.status.idle": "2024-02-10T15:02:54.948986Z",
     "shell.execute_reply": "2024-02-10T15:02:54.947581Z"
    },
    "papermill": {
     "duration": 0.069264,
     "end_time": "2024-02-10T15:02:54.952547",
     "exception": false,
     "start_time": "2024-02-10T15:02:54.883283",
     "status": "completed"
    },
    "tags": []
   },
   "outputs": [
    {
     "data": {
      "text/html": [
       "<div>\n",
       "<style scoped>\n",
       "    .dataframe tbody tr th:only-of-type {\n",
       "        vertical-align: middle;\n",
       "    }\n",
       "\n",
       "    .dataframe tbody tr th {\n",
       "        vertical-align: top;\n",
       "    }\n",
       "\n",
       "    .dataframe thead th {\n",
       "        text-align: right;\n",
       "    }\n",
       "</style>\n",
       "<table border=\"1\" class=\"dataframe\">\n",
       "  <thead>\n",
       "    <tr style=\"text-align: right;\">\n",
       "      <th></th>\n",
       "      <th>Unnamed: 0</th>\n",
       "      <th>car_name</th>\n",
       "      <th>registration_year</th>\n",
       "      <th>insurance_validity</th>\n",
       "      <th>fuel_type</th>\n",
       "      <th>seats</th>\n",
       "      <th>kms_driven</th>\n",
       "      <th>ownsership</th>\n",
       "      <th>transmission</th>\n",
       "      <th>manufacturing_year</th>\n",
       "      <th>mileage(kmpl)</th>\n",
       "      <th>engine(cc)</th>\n",
       "      <th>max_power(bhp)</th>\n",
       "      <th>torque(Nm)</th>\n",
       "      <th>price(in lakhs)</th>\n",
       "    </tr>\n",
       "  </thead>\n",
       "  <tbody>\n",
       "    <tr>\n",
       "      <th>0</th>\n",
       "      <td>0</td>\n",
       "      <td>2017 Mercedes-Benz S-Class S400</td>\n",
       "      <td>Jul-17</td>\n",
       "      <td>Comprehensive</td>\n",
       "      <td>Petrol</td>\n",
       "      <td>5</td>\n",
       "      <td>56000</td>\n",
       "      <td>First Owner</td>\n",
       "      <td>Automatic</td>\n",
       "      <td>2017</td>\n",
       "      <td>7.81</td>\n",
       "      <td>2996.0</td>\n",
       "      <td>2996.0</td>\n",
       "      <td>333.0</td>\n",
       "      <td>63.75</td>\n",
       "    </tr>\n",
       "    <tr>\n",
       "      <th>1</th>\n",
       "      <td>1</td>\n",
       "      <td>2020 Nissan Magnite Turbo CVT XV Premium Opt BSVI</td>\n",
       "      <td>Jan-21</td>\n",
       "      <td>Comprehensive</td>\n",
       "      <td>Petrol</td>\n",
       "      <td>5</td>\n",
       "      <td>30615</td>\n",
       "      <td>First Owner</td>\n",
       "      <td>Automatic</td>\n",
       "      <td>2020</td>\n",
       "      <td>17.40</td>\n",
       "      <td>999.0</td>\n",
       "      <td>999.0</td>\n",
       "      <td>9863.0</td>\n",
       "      <td>8.99</td>\n",
       "    </tr>\n",
       "    <tr>\n",
       "      <th>2</th>\n",
       "      <td>2</td>\n",
       "      <td>2018 BMW X1 sDrive 20d xLine</td>\n",
       "      <td>Sep-18</td>\n",
       "      <td>Comprehensive</td>\n",
       "      <td>Diesel</td>\n",
       "      <td>5</td>\n",
       "      <td>24000</td>\n",
       "      <td>First Owner</td>\n",
       "      <td>Automatic</td>\n",
       "      <td>2018</td>\n",
       "      <td>20.68</td>\n",
       "      <td>1995.0</td>\n",
       "      <td>1995.0</td>\n",
       "      <td>188.0</td>\n",
       "      <td>23.75</td>\n",
       "    </tr>\n",
       "    <tr>\n",
       "      <th>3</th>\n",
       "      <td>3</td>\n",
       "      <td>2019 Kia Seltos GTX Plus</td>\n",
       "      <td>Dec-19</td>\n",
       "      <td>Comprehensive</td>\n",
       "      <td>Petrol</td>\n",
       "      <td>5</td>\n",
       "      <td>18378</td>\n",
       "      <td>First Owner</td>\n",
       "      <td>Manual</td>\n",
       "      <td>2019</td>\n",
       "      <td>16.50</td>\n",
       "      <td>1353.0</td>\n",
       "      <td>1353.0</td>\n",
       "      <td>13808.0</td>\n",
       "      <td>13.56</td>\n",
       "    </tr>\n",
       "    <tr>\n",
       "      <th>4</th>\n",
       "      <td>4</td>\n",
       "      <td>2019 Skoda Superb LK 1.8 TSI AT</td>\n",
       "      <td>Aug-19</td>\n",
       "      <td>Comprehensive</td>\n",
       "      <td>Petrol</td>\n",
       "      <td>5</td>\n",
       "      <td>44900</td>\n",
       "      <td>First Owner</td>\n",
       "      <td>Automatic</td>\n",
       "      <td>2019</td>\n",
       "      <td>14.67</td>\n",
       "      <td>1798.0</td>\n",
       "      <td>1798.0</td>\n",
       "      <td>17746.0</td>\n",
       "      <td>24.00</td>\n",
       "    </tr>\n",
       "    <tr>\n",
       "      <th>...</th>\n",
       "      <td>...</td>\n",
       "      <td>...</td>\n",
       "      <td>...</td>\n",
       "      <td>...</td>\n",
       "      <td>...</td>\n",
       "      <td>...</td>\n",
       "      <td>...</td>\n",
       "      <td>...</td>\n",
       "      <td>...</td>\n",
       "      <td>...</td>\n",
       "      <td>...</td>\n",
       "      <td>...</td>\n",
       "      <td>...</td>\n",
       "      <td>...</td>\n",
       "      <td>...</td>\n",
       "    </tr>\n",
       "    <tr>\n",
       "      <th>1548</th>\n",
       "      <td>1548</td>\n",
       "      <td>2020 Hyundai Creta SX Opt Diesel AT BSVI</td>\n",
       "      <td>Aug-20</td>\n",
       "      <td>Comprehensive</td>\n",
       "      <td>Diesel</td>\n",
       "      <td>5</td>\n",
       "      <td>35000</td>\n",
       "      <td>First Owner</td>\n",
       "      <td>Automatic</td>\n",
       "      <td>2020</td>\n",
       "      <td>1493.00</td>\n",
       "      <td>11345.0</td>\n",
       "      <td>11345.0</td>\n",
       "      <td>250.0</td>\n",
       "      <td>17.41</td>\n",
       "    </tr>\n",
       "    <tr>\n",
       "      <th>1549</th>\n",
       "      <td>1549</td>\n",
       "      <td>2022 Renault KWID 1.0 RXL Opt BSVI</td>\n",
       "      <td>2022</td>\n",
       "      <td>Third Party insurance</td>\n",
       "      <td>Petrol</td>\n",
       "      <td>5</td>\n",
       "      <td>10000</td>\n",
       "      <td>999 cc</td>\n",
       "      <td>2022</td>\n",
       "      <td>Power Steering</td>\n",
       "      <td>999.00</td>\n",
       "      <td>6706.0</td>\n",
       "      <td>6706.0</td>\n",
       "      <td>91.0</td>\n",
       "      <td>3.98</td>\n",
       "    </tr>\n",
       "    <tr>\n",
       "      <th>1550</th>\n",
       "      <td>1550</td>\n",
       "      <td>2017 Honda WR-V i-VTEC S</td>\n",
       "      <td>Jun-17</td>\n",
       "      <td>Comprehensive</td>\n",
       "      <td>Petrol</td>\n",
       "      <td>5</td>\n",
       "      <td>49000</td>\n",
       "      <td>First Owner</td>\n",
       "      <td>Manual</td>\n",
       "      <td>2017</td>\n",
       "      <td>17.50</td>\n",
       "      <td>1199.0</td>\n",
       "      <td>1199.0</td>\n",
       "      <td>887.0</td>\n",
       "      <td>5.85</td>\n",
       "    </tr>\n",
       "    <tr>\n",
       "      <th>1551</th>\n",
       "      <td>1551</td>\n",
       "      <td>2018 Volkswagen Polo 1.0 MPI Comfortline</td>\n",
       "      <td>May-18</td>\n",
       "      <td>Comprehensive</td>\n",
       "      <td>Petrol</td>\n",
       "      <td>5</td>\n",
       "      <td>40000</td>\n",
       "      <td>Second Owner</td>\n",
       "      <td>Manual</td>\n",
       "      <td>2018</td>\n",
       "      <td>18.78</td>\n",
       "      <td>999.0</td>\n",
       "      <td>999.0</td>\n",
       "      <td>75.0</td>\n",
       "      <td>4.75</td>\n",
       "    </tr>\n",
       "    <tr>\n",
       "      <th>1552</th>\n",
       "      <td>1552</td>\n",
       "      <td>2018 Maruti Swift Dzire VXI</td>\n",
       "      <td>May-18</td>\n",
       "      <td>Comprehensive</td>\n",
       "      <td>Petrol</td>\n",
       "      <td>5</td>\n",
       "      <td>34756</td>\n",
       "      <td>First Owner</td>\n",
       "      <td>Manual</td>\n",
       "      <td>2018</td>\n",
       "      <td>20.85</td>\n",
       "      <td>1197.0</td>\n",
       "      <td>1197.0</td>\n",
       "      <td>8314.0</td>\n",
       "      <td>6.10</td>\n",
       "    </tr>\n",
       "  </tbody>\n",
       "</table>\n",
       "<p>1553 rows × 15 columns</p>\n",
       "</div>"
      ],
      "text/plain": [
       "      Unnamed: 0                                           car_name  \\\n",
       "0              0                    2017 Mercedes-Benz S-Class S400   \n",
       "1              1  2020 Nissan Magnite Turbo CVT XV Premium Opt BSVI   \n",
       "2              2                       2018 BMW X1 sDrive 20d xLine   \n",
       "3              3                           2019 Kia Seltos GTX Plus   \n",
       "4              4                    2019 Skoda Superb LK 1.8 TSI AT   \n",
       "...          ...                                                ...   \n",
       "1548        1548           2020 Hyundai Creta SX Opt Diesel AT BSVI   \n",
       "1549        1549                 2022 Renault KWID 1.0 RXL Opt BSVI   \n",
       "1550        1550                           2017 Honda WR-V i-VTEC S   \n",
       "1551        1551           2018 Volkswagen Polo 1.0 MPI Comfortline   \n",
       "1552        1552                        2018 Maruti Swift Dzire VXI   \n",
       "\n",
       "     registration_year     insurance_validity fuel_type  seats  kms_driven  \\\n",
       "0               Jul-17          Comprehensive    Petrol      5       56000   \n",
       "1               Jan-21          Comprehensive    Petrol      5       30615   \n",
       "2               Sep-18          Comprehensive    Diesel      5       24000   \n",
       "3               Dec-19          Comprehensive    Petrol      5       18378   \n",
       "4               Aug-19          Comprehensive    Petrol      5       44900   \n",
       "...                ...                    ...       ...    ...         ...   \n",
       "1548            Aug-20          Comprehensive    Diesel      5       35000   \n",
       "1549              2022  Third Party insurance    Petrol      5       10000   \n",
       "1550            Jun-17          Comprehensive    Petrol      5       49000   \n",
       "1551            May-18          Comprehensive    Petrol      5       40000   \n",
       "1552            May-18          Comprehensive    Petrol      5       34756   \n",
       "\n",
       "        ownsership transmission manufacturing_year  mileage(kmpl)  engine(cc)  \\\n",
       "0      First Owner    Automatic               2017           7.81      2996.0   \n",
       "1      First Owner    Automatic               2020          17.40       999.0   \n",
       "2      First Owner    Automatic               2018          20.68      1995.0   \n",
       "3      First Owner       Manual               2019          16.50      1353.0   \n",
       "4      First Owner    Automatic               2019          14.67      1798.0   \n",
       "...            ...          ...                ...            ...         ...   \n",
       "1548   First Owner    Automatic               2020        1493.00     11345.0   \n",
       "1549        999 cc         2022     Power Steering         999.00      6706.0   \n",
       "1550   First Owner       Manual               2017          17.50      1199.0   \n",
       "1551  Second Owner       Manual               2018          18.78       999.0   \n",
       "1552   First Owner       Manual               2018          20.85      1197.0   \n",
       "\n",
       "      max_power(bhp)  torque(Nm)  price(in lakhs)  \n",
       "0             2996.0       333.0            63.75  \n",
       "1              999.0      9863.0             8.99  \n",
       "2             1995.0       188.0            23.75  \n",
       "3             1353.0     13808.0            13.56  \n",
       "4             1798.0     17746.0            24.00  \n",
       "...              ...         ...              ...  \n",
       "1548         11345.0       250.0            17.41  \n",
       "1549          6706.0        91.0             3.98  \n",
       "1550          1199.0       887.0             5.85  \n",
       "1551           999.0        75.0             4.75  \n",
       "1552          1197.0      8314.0             6.10  \n",
       "\n",
       "[1553 rows x 15 columns]"
      ]
     },
     "execution_count": 2,
     "metadata": {},
     "output_type": "execute_result"
    }
   ],
   "source": [
    "data=pd.read_csv(\"/kaggle/input/used-car-dataset/Used Car Dataset.csv\")\n",
    "data"
   ]
  },
  {
   "cell_type": "code",
   "execution_count": 3,
   "id": "a4873bf8",
   "metadata": {
    "execution": {
     "iopub.execute_input": "2024-02-10T15:02:54.970171Z",
     "iopub.status.busy": "2024-02-10T15:02:54.969784Z",
     "iopub.status.idle": "2024-02-10T15:02:54.977821Z",
     "shell.execute_reply": "2024-02-10T15:02:54.976449Z"
    },
    "papermill": {
     "duration": 0.019899,
     "end_time": "2024-02-10T15:02:54.980422",
     "exception": false,
     "start_time": "2024-02-10T15:02:54.960523",
     "status": "completed"
    },
    "tags": []
   },
   "outputs": [
    {
     "data": {
      "text/plain": [
       "Index(['Unnamed: 0', 'car_name', 'registration_year', 'insurance_validity',\n",
       "       'fuel_type', 'seats', 'kms_driven', 'ownsership', 'transmission',\n",
       "       'manufacturing_year', 'mileage(kmpl)', 'engine(cc)', 'max_power(bhp)',\n",
       "       'torque(Nm)', 'price(in lakhs)'],\n",
       "      dtype='object')"
      ]
     },
     "execution_count": 3,
     "metadata": {},
     "output_type": "execute_result"
    }
   ],
   "source": [
    "data.columns"
   ]
  },
  {
   "cell_type": "code",
   "execution_count": 4,
   "id": "65cc1094",
   "metadata": {
    "execution": {
     "iopub.execute_input": "2024-02-10T15:02:54.999033Z",
     "iopub.status.busy": "2024-02-10T15:02:54.998621Z",
     "iopub.status.idle": "2024-02-10T15:02:55.017918Z",
     "shell.execute_reply": "2024-02-10T15:02:55.016786Z"
    },
    "papermill": {
     "duration": 0.032351,
     "end_time": "2024-02-10T15:02:55.020885",
     "exception": false,
     "start_time": "2024-02-10T15:02:54.988534",
     "status": "completed"
    },
    "tags": []
   },
   "outputs": [],
   "source": [
    "data.drop([\"Unnamed: 0\"],axis=1,inplace=True)\n",
    "data.drop([\"max_power(bhp)\"],axis=1,inplace=True)\n",
    "data=data[~data[\"registration_year\"].str.isnumeric()]\n",
    "data=data[data[\"manufacturing_year\"].str.isnumeric()]"
   ]
  },
  {
   "cell_type": "code",
   "execution_count": 5,
   "id": "ec7ba55e",
   "metadata": {
    "execution": {
     "iopub.execute_input": "2024-02-10T15:02:55.041099Z",
     "iopub.status.busy": "2024-02-10T15:02:55.039622Z",
     "iopub.status.idle": "2024-02-10T15:02:55.050202Z",
     "shell.execute_reply": "2024-02-10T15:02:55.048847Z"
    },
    "papermill": {
     "duration": 0.023099,
     "end_time": "2024-02-10T15:02:55.052872",
     "exception": false,
     "start_time": "2024-02-10T15:02:55.029773",
     "status": "completed"
    },
    "tags": []
   },
   "outputs": [
    {
     "data": {
      "text/plain": [
       "0       Jul-17\n",
       "1       Jan-21\n",
       "2       Sep-18\n",
       "3       Dec-19\n",
       "4       Aug-19\n",
       "         ...  \n",
       "1547    May-22\n",
       "1548    Aug-20\n",
       "1550    Jun-17\n",
       "1551    May-18\n",
       "1552    May-18\n",
       "Name: registration_year, Length: 1408, dtype: object"
      ]
     },
     "execution_count": 5,
     "metadata": {},
     "output_type": "execute_result"
    }
   ],
   "source": [
    "data[\"registration_year\"]"
   ]
  },
  {
   "cell_type": "code",
   "execution_count": 6,
   "id": "301556ca",
   "metadata": {
    "execution": {
     "iopub.execute_input": "2024-02-10T15:02:55.071768Z",
     "iopub.status.busy": "2024-02-10T15:02:55.071027Z",
     "iopub.status.idle": "2024-02-10T15:02:55.081126Z",
     "shell.execute_reply": "2024-02-10T15:02:55.079944Z"
    },
    "papermill": {
     "duration": 0.022997,
     "end_time": "2024-02-10T15:02:55.084007",
     "exception": false,
     "start_time": "2024-02-10T15:02:55.061010",
     "status": "completed"
    },
    "tags": []
   },
   "outputs": [],
   "source": [
    "data[\"registration_year\"]=data[\"manufacturing_year\"]+' '+data[\"registration_year\"].str.split('-').str.get(0)"
   ]
  },
  {
   "cell_type": "code",
   "execution_count": 7,
   "id": "e15fbf5a",
   "metadata": {
    "execution": {
     "iopub.execute_input": "2024-02-10T15:02:55.103127Z",
     "iopub.status.busy": "2024-02-10T15:02:55.102357Z",
     "iopub.status.idle": "2024-02-10T15:02:55.131100Z",
     "shell.execute_reply": "2024-02-10T15:02:55.129349Z"
    },
    "papermill": {
     "duration": 0.041485,
     "end_time": "2024-02-10T15:02:55.133829",
     "exception": false,
     "start_time": "2024-02-10T15:02:55.092344",
     "status": "completed"
    },
    "tags": []
   },
   "outputs": [
    {
     "name": "stderr",
     "output_type": "stream",
     "text": [
      "/tmp/ipykernel_18/1217795317.py:1: UserWarning: Could not infer format, so each element will be parsed individually, falling back to `dateutil`. To ensure parsing is consistent and as-expected, please specify a format.\n",
      "  data[\"registration_year\"]=pd.to_datetime(data[\"registration_year\"])\n"
     ]
    }
   ],
   "source": [
    "data[\"registration_year\"]=pd.to_datetime(data[\"registration_year\"])"
   ]
  },
  {
   "cell_type": "code",
   "execution_count": 8,
   "id": "6ecc5418",
   "metadata": {
    "execution": {
     "iopub.execute_input": "2024-02-10T15:02:55.153821Z",
     "iopub.status.busy": "2024-02-10T15:02:55.153392Z",
     "iopub.status.idle": "2024-02-10T15:02:55.165219Z",
     "shell.execute_reply": "2024-02-10T15:02:55.163893Z"
    },
    "papermill": {
     "duration": 0.025634,
     "end_time": "2024-02-10T15:02:55.168725",
     "exception": false,
     "start_time": "2024-02-10T15:02:55.143091",
     "status": "completed"
    },
    "tags": []
   },
   "outputs": [
    {
     "data": {
      "text/plain": [
       "0      2017-07-01\n",
       "1      2020-01-01\n",
       "2      2018-09-01\n",
       "3      2019-12-01\n",
       "4      2019-08-01\n",
       "          ...    \n",
       "1547   2022-05-01\n",
       "1548   2020-08-01\n",
       "1550   2017-06-01\n",
       "1551   2018-05-01\n",
       "1552   2018-05-01\n",
       "Name: registration_year, Length: 1408, dtype: datetime64[ns]"
      ]
     },
     "execution_count": 8,
     "metadata": {},
     "output_type": "execute_result"
    }
   ],
   "source": [
    "data[\"registration_year\"]"
   ]
  },
  {
   "cell_type": "code",
   "execution_count": 9,
   "id": "7a2f7948",
   "metadata": {
    "execution": {
     "iopub.execute_input": "2024-02-10T15:02:55.187525Z",
     "iopub.status.busy": "2024-02-10T15:02:55.186697Z",
     "iopub.status.idle": "2024-02-10T15:02:55.192961Z",
     "shell.execute_reply": "2024-02-10T15:02:55.191937Z"
    },
    "papermill": {
     "duration": 0.018467,
     "end_time": "2024-02-10T15:02:55.195375",
     "exception": false,
     "start_time": "2024-02-10T15:02:55.176908",
     "status": "completed"
    },
    "tags": []
   },
   "outputs": [],
   "source": [
    "data=data.drop(\"manufacturing_year\",axis=1)"
   ]
  },
  {
   "cell_type": "code",
   "execution_count": 10,
   "id": "25ec9e39",
   "metadata": {
    "execution": {
     "iopub.execute_input": "2024-02-10T15:02:55.214634Z",
     "iopub.status.busy": "2024-02-10T15:02:55.213794Z",
     "iopub.status.idle": "2024-02-10T15:02:55.225432Z",
     "shell.execute_reply": "2024-02-10T15:02:55.223890Z"
    },
    "papermill": {
     "duration": 0.024516,
     "end_time": "2024-02-10T15:02:55.228089",
     "exception": false,
     "start_time": "2024-02-10T15:02:55.203573",
     "status": "completed"
    },
    "tags": []
   },
   "outputs": [],
   "source": [
    "data[\"car_name\"]=data[\"car_name\"].str.split(' ').str.slice(1,-1).str.join(\" \")"
   ]
  },
  {
   "cell_type": "code",
   "execution_count": 11,
   "id": "d3e17443",
   "metadata": {
    "execution": {
     "iopub.execute_input": "2024-02-10T15:02:55.245712Z",
     "iopub.status.busy": "2024-02-10T15:02:55.245207Z",
     "iopub.status.idle": "2024-02-10T15:02:55.269044Z",
     "shell.execute_reply": "2024-02-10T15:02:55.267858Z"
    },
    "papermill": {
     "duration": 0.035621,
     "end_time": "2024-02-10T15:02:55.271533",
     "exception": false,
     "start_time": "2024-02-10T15:02:55.235912",
     "status": "completed"
    },
    "tags": []
   },
   "outputs": [
    {
     "data": {
      "text/html": [
       "<div>\n",
       "<style scoped>\n",
       "    .dataframe tbody tr th:only-of-type {\n",
       "        vertical-align: middle;\n",
       "    }\n",
       "\n",
       "    .dataframe tbody tr th {\n",
       "        vertical-align: top;\n",
       "    }\n",
       "\n",
       "    .dataframe thead th {\n",
       "        text-align: right;\n",
       "    }\n",
       "</style>\n",
       "<table border=\"1\" class=\"dataframe\">\n",
       "  <thead>\n",
       "    <tr style=\"text-align: right;\">\n",
       "      <th></th>\n",
       "      <th>car_name</th>\n",
       "      <th>registration_year</th>\n",
       "      <th>insurance_validity</th>\n",
       "      <th>fuel_type</th>\n",
       "      <th>seats</th>\n",
       "      <th>kms_driven</th>\n",
       "      <th>ownsership</th>\n",
       "      <th>transmission</th>\n",
       "      <th>mileage(kmpl)</th>\n",
       "      <th>engine(cc)</th>\n",
       "      <th>torque(Nm)</th>\n",
       "      <th>price(in lakhs)</th>\n",
       "    </tr>\n",
       "  </thead>\n",
       "  <tbody>\n",
       "    <tr>\n",
       "      <th>0</th>\n",
       "      <td>Mercedes-Benz S-Class</td>\n",
       "      <td>2017-07-01</td>\n",
       "      <td>Comprehensive</td>\n",
       "      <td>Petrol</td>\n",
       "      <td>5</td>\n",
       "      <td>56000</td>\n",
       "      <td>First Owner</td>\n",
       "      <td>Automatic</td>\n",
       "      <td>7.81</td>\n",
       "      <td>2996.0</td>\n",
       "      <td>333.0</td>\n",
       "      <td>63.75</td>\n",
       "    </tr>\n",
       "    <tr>\n",
       "      <th>1</th>\n",
       "      <td>Nissan Magnite Turbo CVT XV Premium Opt</td>\n",
       "      <td>2020-01-01</td>\n",
       "      <td>Comprehensive</td>\n",
       "      <td>Petrol</td>\n",
       "      <td>5</td>\n",
       "      <td>30615</td>\n",
       "      <td>First Owner</td>\n",
       "      <td>Automatic</td>\n",
       "      <td>17.40</td>\n",
       "      <td>999.0</td>\n",
       "      <td>9863.0</td>\n",
       "      <td>8.99</td>\n",
       "    </tr>\n",
       "    <tr>\n",
       "      <th>2</th>\n",
       "      <td>BMW X1 sDrive 20d</td>\n",
       "      <td>2018-09-01</td>\n",
       "      <td>Comprehensive</td>\n",
       "      <td>Diesel</td>\n",
       "      <td>5</td>\n",
       "      <td>24000</td>\n",
       "      <td>First Owner</td>\n",
       "      <td>Automatic</td>\n",
       "      <td>20.68</td>\n",
       "      <td>1995.0</td>\n",
       "      <td>188.0</td>\n",
       "      <td>23.75</td>\n",
       "    </tr>\n",
       "    <tr>\n",
       "      <th>3</th>\n",
       "      <td>Kia Seltos GTX</td>\n",
       "      <td>2019-12-01</td>\n",
       "      <td>Comprehensive</td>\n",
       "      <td>Petrol</td>\n",
       "      <td>5</td>\n",
       "      <td>18378</td>\n",
       "      <td>First Owner</td>\n",
       "      <td>Manual</td>\n",
       "      <td>16.50</td>\n",
       "      <td>1353.0</td>\n",
       "      <td>13808.0</td>\n",
       "      <td>13.56</td>\n",
       "    </tr>\n",
       "    <tr>\n",
       "      <th>4</th>\n",
       "      <td>Skoda Superb LK 1.8 TSI</td>\n",
       "      <td>2019-08-01</td>\n",
       "      <td>Comprehensive</td>\n",
       "      <td>Petrol</td>\n",
       "      <td>5</td>\n",
       "      <td>44900</td>\n",
       "      <td>First Owner</td>\n",
       "      <td>Automatic</td>\n",
       "      <td>14.67</td>\n",
       "      <td>1798.0</td>\n",
       "      <td>17746.0</td>\n",
       "      <td>24.00</td>\n",
       "    </tr>\n",
       "    <tr>\n",
       "      <th>...</th>\n",
       "      <td>...</td>\n",
       "      <td>...</td>\n",
       "      <td>...</td>\n",
       "      <td>...</td>\n",
       "      <td>...</td>\n",
       "      <td>...</td>\n",
       "      <td>...</td>\n",
       "      <td>...</td>\n",
       "      <td>...</td>\n",
       "      <td>...</td>\n",
       "      <td>...</td>\n",
       "      <td>...</td>\n",
       "    </tr>\n",
       "    <tr>\n",
       "      <th>1547</th>\n",
       "      <td>Maruti Ertiga VXI</td>\n",
       "      <td>2022-05-01</td>\n",
       "      <td>Third Party insurance</td>\n",
       "      <td>CNG</td>\n",
       "      <td>7</td>\n",
       "      <td>26500</td>\n",
       "      <td>First Owner</td>\n",
       "      <td>Manual</td>\n",
       "      <td>26.11</td>\n",
       "      <td>1462.0</td>\n",
       "      <td>8663.0</td>\n",
       "      <td>11.50</td>\n",
       "    </tr>\n",
       "    <tr>\n",
       "      <th>1548</th>\n",
       "      <td>Hyundai Creta SX Opt Diesel AT</td>\n",
       "      <td>2020-08-01</td>\n",
       "      <td>Comprehensive</td>\n",
       "      <td>Diesel</td>\n",
       "      <td>5</td>\n",
       "      <td>35000</td>\n",
       "      <td>First Owner</td>\n",
       "      <td>Automatic</td>\n",
       "      <td>1493.00</td>\n",
       "      <td>11345.0</td>\n",
       "      <td>250.0</td>\n",
       "      <td>17.41</td>\n",
       "    </tr>\n",
       "    <tr>\n",
       "      <th>1550</th>\n",
       "      <td>Honda WR-V i-VTEC</td>\n",
       "      <td>2017-06-01</td>\n",
       "      <td>Comprehensive</td>\n",
       "      <td>Petrol</td>\n",
       "      <td>5</td>\n",
       "      <td>49000</td>\n",
       "      <td>First Owner</td>\n",
       "      <td>Manual</td>\n",
       "      <td>17.50</td>\n",
       "      <td>1199.0</td>\n",
       "      <td>887.0</td>\n",
       "      <td>5.85</td>\n",
       "    </tr>\n",
       "    <tr>\n",
       "      <th>1551</th>\n",
       "      <td>Volkswagen Polo 1.0 MPI</td>\n",
       "      <td>2018-05-01</td>\n",
       "      <td>Comprehensive</td>\n",
       "      <td>Petrol</td>\n",
       "      <td>5</td>\n",
       "      <td>40000</td>\n",
       "      <td>Second Owner</td>\n",
       "      <td>Manual</td>\n",
       "      <td>18.78</td>\n",
       "      <td>999.0</td>\n",
       "      <td>75.0</td>\n",
       "      <td>4.75</td>\n",
       "    </tr>\n",
       "    <tr>\n",
       "      <th>1552</th>\n",
       "      <td>Maruti Swift Dzire</td>\n",
       "      <td>2018-05-01</td>\n",
       "      <td>Comprehensive</td>\n",
       "      <td>Petrol</td>\n",
       "      <td>5</td>\n",
       "      <td>34756</td>\n",
       "      <td>First Owner</td>\n",
       "      <td>Manual</td>\n",
       "      <td>20.85</td>\n",
       "      <td>1197.0</td>\n",
       "      <td>8314.0</td>\n",
       "      <td>6.10</td>\n",
       "    </tr>\n",
       "  </tbody>\n",
       "</table>\n",
       "<p>1408 rows × 12 columns</p>\n",
       "</div>"
      ],
      "text/plain": [
       "                                     car_name registration_year  \\\n",
       "0                       Mercedes-Benz S-Class        2017-07-01   \n",
       "1     Nissan Magnite Turbo CVT XV Premium Opt        2020-01-01   \n",
       "2                           BMW X1 sDrive 20d        2018-09-01   \n",
       "3                              Kia Seltos GTX        2019-12-01   \n",
       "4                     Skoda Superb LK 1.8 TSI        2019-08-01   \n",
       "...                                       ...               ...   \n",
       "1547                        Maruti Ertiga VXI        2022-05-01   \n",
       "1548           Hyundai Creta SX Opt Diesel AT        2020-08-01   \n",
       "1550                        Honda WR-V i-VTEC        2017-06-01   \n",
       "1551                  Volkswagen Polo 1.0 MPI        2018-05-01   \n",
       "1552                       Maruti Swift Dzire        2018-05-01   \n",
       "\n",
       "         insurance_validity fuel_type  seats  kms_driven    ownsership  \\\n",
       "0             Comprehensive    Petrol      5       56000   First Owner   \n",
       "1             Comprehensive    Petrol      5       30615   First Owner   \n",
       "2             Comprehensive    Diesel      5       24000   First Owner   \n",
       "3             Comprehensive    Petrol      5       18378   First Owner   \n",
       "4             Comprehensive    Petrol      5       44900   First Owner   \n",
       "...                     ...       ...    ...         ...           ...   \n",
       "1547  Third Party insurance       CNG      7       26500   First Owner   \n",
       "1548          Comprehensive    Diesel      5       35000   First Owner   \n",
       "1550          Comprehensive    Petrol      5       49000   First Owner   \n",
       "1551          Comprehensive    Petrol      5       40000  Second Owner   \n",
       "1552          Comprehensive    Petrol      5       34756   First Owner   \n",
       "\n",
       "     transmission  mileage(kmpl)  engine(cc)  torque(Nm)  price(in lakhs)  \n",
       "0       Automatic           7.81      2996.0       333.0            63.75  \n",
       "1       Automatic          17.40       999.0      9863.0             8.99  \n",
       "2       Automatic          20.68      1995.0       188.0            23.75  \n",
       "3          Manual          16.50      1353.0     13808.0            13.56  \n",
       "4       Automatic          14.67      1798.0     17746.0            24.00  \n",
       "...           ...            ...         ...         ...              ...  \n",
       "1547       Manual          26.11      1462.0      8663.0            11.50  \n",
       "1548    Automatic        1493.00     11345.0       250.0            17.41  \n",
       "1550       Manual          17.50      1199.0       887.0             5.85  \n",
       "1551       Manual          18.78       999.0        75.0             4.75  \n",
       "1552       Manual          20.85      1197.0      8314.0             6.10  \n",
       "\n",
       "[1408 rows x 12 columns]"
      ]
     },
     "execution_count": 11,
     "metadata": {},
     "output_type": "execute_result"
    }
   ],
   "source": [
    "data"
   ]
  },
  {
   "cell_type": "code",
   "execution_count": 12,
   "id": "db5fc090",
   "metadata": {
    "execution": {
     "iopub.execute_input": "2024-02-10T15:02:55.290194Z",
     "iopub.status.busy": "2024-02-10T15:02:55.289715Z",
     "iopub.status.idle": "2024-02-10T15:02:55.297500Z",
     "shell.execute_reply": "2024-02-10T15:02:55.296023Z"
    },
    "papermill": {
     "duration": 0.020847,
     "end_time": "2024-02-10T15:02:55.300682",
     "exception": false,
     "start_time": "2024-02-10T15:02:55.279835",
     "status": "completed"
    },
    "tags": []
   },
   "outputs": [],
   "source": [
    "data=data.reset_index(drop=True)"
   ]
  },
  {
   "cell_type": "code",
   "execution_count": 13,
   "id": "36470738",
   "metadata": {
    "execution": {
     "iopub.execute_input": "2024-02-10T15:02:55.320760Z",
     "iopub.status.busy": "2024-02-10T15:02:55.320103Z",
     "iopub.status.idle": "2024-02-10T15:02:55.358420Z",
     "shell.execute_reply": "2024-02-10T15:02:55.356902Z"
    },
    "papermill": {
     "duration": 0.051551,
     "end_time": "2024-02-10T15:02:55.361374",
     "exception": false,
     "start_time": "2024-02-10T15:02:55.309823",
     "status": "completed"
    },
    "tags": []
   },
   "outputs": [
    {
     "data": {
      "text/html": [
       "<div>\n",
       "<style scoped>\n",
       "    .dataframe tbody tr th:only-of-type {\n",
       "        vertical-align: middle;\n",
       "    }\n",
       "\n",
       "    .dataframe tbody tr th {\n",
       "        vertical-align: top;\n",
       "    }\n",
       "\n",
       "    .dataframe thead th {\n",
       "        text-align: right;\n",
       "    }\n",
       "</style>\n",
       "<table border=\"1\" class=\"dataframe\">\n",
       "  <thead>\n",
       "    <tr style=\"text-align: right;\">\n",
       "      <th></th>\n",
       "      <th>registration_year</th>\n",
       "      <th>seats</th>\n",
       "      <th>kms_driven</th>\n",
       "      <th>mileage(kmpl)</th>\n",
       "      <th>engine(cc)</th>\n",
       "      <th>torque(Nm)</th>\n",
       "      <th>price(in lakhs)</th>\n",
       "    </tr>\n",
       "  </thead>\n",
       "  <tbody>\n",
       "    <tr>\n",
       "      <th>count</th>\n",
       "      <td>1408</td>\n",
       "      <td>1408.000000</td>\n",
       "      <td>1408.000000</td>\n",
       "      <td>1405.000000</td>\n",
       "      <td>1.405000e+03</td>\n",
       "      <td>1.404000e+03</td>\n",
       "      <td>1408.000000</td>\n",
       "    </tr>\n",
       "    <tr>\n",
       "      <th>mean</th>\n",
       "      <td>2018-01-01 05:39:32.727272704</td>\n",
       "      <td>5.197443</td>\n",
       "      <td>51904.819602</td>\n",
       "      <td>191.159950</td>\n",
       "      <td>1.623757e+10</td>\n",
       "      <td>1.281822e+04</td>\n",
       "      <td>181.851442</td>\n",
       "    </tr>\n",
       "    <tr>\n",
       "      <th>min</th>\n",
       "      <td>2009-01-01 00:00:00</td>\n",
       "      <td>4.000000</td>\n",
       "      <td>620.000000</td>\n",
       "      <td>7.810000</td>\n",
       "      <td>5.000000e+00</td>\n",
       "      <td>1.900000e+01</td>\n",
       "      <td>1.050000</td>\n",
       "    </tr>\n",
       "    <tr>\n",
       "      <th>25%</th>\n",
       "      <td>2016-01-01 00:00:00</td>\n",
       "      <td>5.000000</td>\n",
       "      <td>29502.000000</td>\n",
       "      <td>16.350000</td>\n",
       "      <td>1.197000e+03</td>\n",
       "      <td>5.100000e+02</td>\n",
       "      <td>4.740000</td>\n",
       "    </tr>\n",
       "    <tr>\n",
       "      <th>50%</th>\n",
       "      <td>2018-05-01 00:00:00</td>\n",
       "      <td>5.000000</td>\n",
       "      <td>49067.000000</td>\n",
       "      <td>18.900000</td>\n",
       "      <td>1.462000e+03</td>\n",
       "      <td>1.213000e+03</td>\n",
       "      <td>6.950000</td>\n",
       "    </tr>\n",
       "    <tr>\n",
       "      <th>75%</th>\n",
       "      <td>2020-01-01 00:00:00</td>\n",
       "      <td>5.000000</td>\n",
       "      <td>69004.500000</td>\n",
       "      <td>21.400000</td>\n",
       "      <td>1.995000e+03</td>\n",
       "      <td>8.873000e+03</td>\n",
       "      <td>16.500000</td>\n",
       "    </tr>\n",
       "    <tr>\n",
       "      <th>max</th>\n",
       "      <td>2023-11-01 00:00:00</td>\n",
       "      <td>8.000000</td>\n",
       "      <td>810000.000000</td>\n",
       "      <td>3996.000000</td>\n",
       "      <td>3.258640e+12</td>\n",
       "      <td>1.186600e+06</td>\n",
       "      <td>95000.000000</td>\n",
       "    </tr>\n",
       "    <tr>\n",
       "      <th>std</th>\n",
       "      <td>NaN</td>\n",
       "      <td>0.625853</td>\n",
       "      <td>39976.736374</td>\n",
       "      <td>525.455339</td>\n",
       "      <td>2.295181e+11</td>\n",
       "      <td>8.273379e+04</td>\n",
       "      <td>3653.354519</td>\n",
       "    </tr>\n",
       "  </tbody>\n",
       "</table>\n",
       "</div>"
      ],
      "text/plain": [
       "                   registration_year        seats     kms_driven  \\\n",
       "count                           1408  1408.000000    1408.000000   \n",
       "mean   2018-01-01 05:39:32.727272704     5.197443   51904.819602   \n",
       "min              2009-01-01 00:00:00     4.000000     620.000000   \n",
       "25%              2016-01-01 00:00:00     5.000000   29502.000000   \n",
       "50%              2018-05-01 00:00:00     5.000000   49067.000000   \n",
       "75%              2020-01-01 00:00:00     5.000000   69004.500000   \n",
       "max              2023-11-01 00:00:00     8.000000  810000.000000   \n",
       "std                              NaN     0.625853   39976.736374   \n",
       "\n",
       "       mileage(kmpl)    engine(cc)    torque(Nm)  price(in lakhs)  \n",
       "count    1405.000000  1.405000e+03  1.404000e+03      1408.000000  \n",
       "mean      191.159950  1.623757e+10  1.281822e+04       181.851442  \n",
       "min         7.810000  5.000000e+00  1.900000e+01         1.050000  \n",
       "25%        16.350000  1.197000e+03  5.100000e+02         4.740000  \n",
       "50%        18.900000  1.462000e+03  1.213000e+03         6.950000  \n",
       "75%        21.400000  1.995000e+03  8.873000e+03        16.500000  \n",
       "max      3996.000000  3.258640e+12  1.186600e+06     95000.000000  \n",
       "std       525.455339  2.295181e+11  8.273379e+04      3653.354519  "
      ]
     },
     "execution_count": 13,
     "metadata": {},
     "output_type": "execute_result"
    }
   ],
   "source": [
    "data.describe()"
   ]
  },
  {
   "cell_type": "code",
   "execution_count": 14,
   "id": "8b7b1e0a",
   "metadata": {
    "execution": {
     "iopub.execute_input": "2024-02-10T15:02:55.381878Z",
     "iopub.status.busy": "2024-02-10T15:02:55.381380Z",
     "iopub.status.idle": "2024-02-10T15:02:55.389573Z",
     "shell.execute_reply": "2024-02-10T15:02:55.388606Z"
    },
    "papermill": {
     "duration": 0.022022,
     "end_time": "2024-02-10T15:02:55.392700",
     "exception": false,
     "start_time": "2024-02-10T15:02:55.370678",
     "status": "completed"
    },
    "tags": []
   },
   "outputs": [],
   "source": [
    "data=data[data[\"price(in lakhs)\"]<100.000000].reset_index(drop=True)"
   ]
  },
  {
   "cell_type": "code",
   "execution_count": 15,
   "id": "dc6cec59",
   "metadata": {
    "execution": {
     "iopub.execute_input": "2024-02-10T15:02:55.416530Z",
     "iopub.status.busy": "2024-02-10T15:02:55.415788Z",
     "iopub.status.idle": "2024-02-10T15:02:55.422517Z",
     "shell.execute_reply": "2024-02-10T15:02:55.421427Z"
    },
    "papermill": {
     "duration": 0.020346,
     "end_time": "2024-02-10T15:02:55.424993",
     "exception": false,
     "start_time": "2024-02-10T15:02:55.404647",
     "status": "completed"
    },
    "tags": []
   },
   "outputs": [],
   "source": [
    "x=data.drop(columns=\"price(in lakhs)\")\n",
    "y=data[\"price(in lakhs)\"]"
   ]
  },
  {
   "cell_type": "code",
   "execution_count": 16,
   "id": "32285575",
   "metadata": {
    "execution": {
     "iopub.execute_input": "2024-02-10T15:02:55.445298Z",
     "iopub.status.busy": "2024-02-10T15:02:55.444576Z",
     "iopub.status.idle": "2024-02-10T15:02:57.039619Z",
     "shell.execute_reply": "2024-02-10T15:02:57.037876Z"
    },
    "papermill": {
     "duration": 1.609234,
     "end_time": "2024-02-10T15:02:57.042932",
     "exception": false,
     "start_time": "2024-02-10T15:02:55.433698",
     "status": "completed"
    },
    "tags": []
   },
   "outputs": [],
   "source": [
    "from sklearn.model_selection import train_test_split\n",
    "x_train,x_test,y_train,y_test=train_test_split(x,y,test_size=0.2)\n"
   ]
  },
  {
   "cell_type": "code",
   "execution_count": 17,
   "id": "c9d48bd2",
   "metadata": {
    "execution": {
     "iopub.execute_input": "2024-02-10T15:02:57.066626Z",
     "iopub.status.busy": "2024-02-10T15:02:57.065965Z",
     "iopub.status.idle": "2024-02-10T15:02:57.273642Z",
     "shell.execute_reply": "2024-02-10T15:02:57.272333Z"
    },
    "papermill": {
     "duration": 0.222986,
     "end_time": "2024-02-10T15:02:57.277016",
     "exception": false,
     "start_time": "2024-02-10T15:02:57.054030",
     "status": "completed"
    },
    "tags": []
   },
   "outputs": [],
   "source": [
    "from sklearn.linear_model import LinearRegression\n",
    "from sklearn.metrics import r2_score\n",
    "from sklearn.preprocessing import OneHotEncoder\n",
    "from sklearn.compose import make_column_transformer\n",
    "from sklearn.pipeline import make_pipeline"
   ]
  },
  {
   "cell_type": "code",
   "execution_count": 18,
   "id": "8e3b87b4",
   "metadata": {
    "execution": {
     "iopub.execute_input": "2024-02-10T15:02:57.298415Z",
     "iopub.status.busy": "2024-02-10T15:02:57.298012Z",
     "iopub.status.idle": "2024-02-10T15:02:57.315984Z",
     "shell.execute_reply": "2024-02-10T15:02:57.314984Z"
    },
    "papermill": {
     "duration": 0.031268,
     "end_time": "2024-02-10T15:02:57.318367",
     "exception": false,
     "start_time": "2024-02-10T15:02:57.287099",
     "status": "completed"
    },
    "tags": []
   },
   "outputs": [
    {
     "data": {
      "text/html": [
       "<style>#sk-container-id-1 {color: black;background-color: white;}#sk-container-id-1 pre{padding: 0;}#sk-container-id-1 div.sk-toggleable {background-color: white;}#sk-container-id-1 label.sk-toggleable__label {cursor: pointer;display: block;width: 100%;margin-bottom: 0;padding: 0.3em;box-sizing: border-box;text-align: center;}#sk-container-id-1 label.sk-toggleable__label-arrow:before {content: \"▸\";float: left;margin-right: 0.25em;color: #696969;}#sk-container-id-1 label.sk-toggleable__label-arrow:hover:before {color: black;}#sk-container-id-1 div.sk-estimator:hover label.sk-toggleable__label-arrow:before {color: black;}#sk-container-id-1 div.sk-toggleable__content {max-height: 0;max-width: 0;overflow: hidden;text-align: left;background-color: #f0f8ff;}#sk-container-id-1 div.sk-toggleable__content pre {margin: 0.2em;color: black;border-radius: 0.25em;background-color: #f0f8ff;}#sk-container-id-1 input.sk-toggleable__control:checked~div.sk-toggleable__content {max-height: 200px;max-width: 100%;overflow: auto;}#sk-container-id-1 input.sk-toggleable__control:checked~label.sk-toggleable__label-arrow:before {content: \"▾\";}#sk-container-id-1 div.sk-estimator input.sk-toggleable__control:checked~label.sk-toggleable__label {background-color: #d4ebff;}#sk-container-id-1 div.sk-label input.sk-toggleable__control:checked~label.sk-toggleable__label {background-color: #d4ebff;}#sk-container-id-1 input.sk-hidden--visually {border: 0;clip: rect(1px 1px 1px 1px);clip: rect(1px, 1px, 1px, 1px);height: 1px;margin: -1px;overflow: hidden;padding: 0;position: absolute;width: 1px;}#sk-container-id-1 div.sk-estimator {font-family: monospace;background-color: #f0f8ff;border: 1px dotted black;border-radius: 0.25em;box-sizing: border-box;margin-bottom: 0.5em;}#sk-container-id-1 div.sk-estimator:hover {background-color: #d4ebff;}#sk-container-id-1 div.sk-parallel-item::after {content: \"\";width: 100%;border-bottom: 1px solid gray;flex-grow: 1;}#sk-container-id-1 div.sk-label:hover label.sk-toggleable__label {background-color: #d4ebff;}#sk-container-id-1 div.sk-serial::before {content: \"\";position: absolute;border-left: 1px solid gray;box-sizing: border-box;top: 0;bottom: 0;left: 50%;z-index: 0;}#sk-container-id-1 div.sk-serial {display: flex;flex-direction: column;align-items: center;background-color: white;padding-right: 0.2em;padding-left: 0.2em;position: relative;}#sk-container-id-1 div.sk-item {position: relative;z-index: 1;}#sk-container-id-1 div.sk-parallel {display: flex;align-items: stretch;justify-content: center;background-color: white;position: relative;}#sk-container-id-1 div.sk-item::before, #sk-container-id-1 div.sk-parallel-item::before {content: \"\";position: absolute;border-left: 1px solid gray;box-sizing: border-box;top: 0;bottom: 0;left: 50%;z-index: -1;}#sk-container-id-1 div.sk-parallel-item {display: flex;flex-direction: column;z-index: 1;position: relative;background-color: white;}#sk-container-id-1 div.sk-parallel-item:first-child::after {align-self: flex-end;width: 50%;}#sk-container-id-1 div.sk-parallel-item:last-child::after {align-self: flex-start;width: 50%;}#sk-container-id-1 div.sk-parallel-item:only-child::after {width: 0;}#sk-container-id-1 div.sk-dashed-wrapped {border: 1px dashed gray;margin: 0 0.4em 0.5em 0.4em;box-sizing: border-box;padding-bottom: 0.4em;background-color: white;}#sk-container-id-1 div.sk-label label {font-family: monospace;font-weight: bold;display: inline-block;line-height: 1.2em;}#sk-container-id-1 div.sk-label-container {text-align: center;}#sk-container-id-1 div.sk-container {/* jupyter's `normalize.less` sets `[hidden] { display: none; }` but bootstrap.min.css set `[hidden] { display: none !important; }` so we also need the `!important` here to be able to override the default hidden behavior on the sphinx rendered scikit-learn.org. See: https://github.com/scikit-learn/scikit-learn/issues/21755 */display: inline-block !important;position: relative;}#sk-container-id-1 div.sk-text-repr-fallback {display: none;}</style><div id=\"sk-container-id-1\" class=\"sk-top-container\"><div class=\"sk-text-repr-fallback\"><pre>OneHotEncoder()</pre><b>In a Jupyter environment, please rerun this cell to show the HTML representation or trust the notebook. <br />On GitHub, the HTML representation is unable to render, please try loading this page with nbviewer.org.</b></div><div class=\"sk-container\" hidden><div class=\"sk-item\"><div class=\"sk-estimator sk-toggleable\"><input class=\"sk-toggleable__control sk-hidden--visually\" id=\"sk-estimator-id-1\" type=\"checkbox\" checked><label for=\"sk-estimator-id-1\" class=\"sk-toggleable__label sk-toggleable__label-arrow\">OneHotEncoder</label><div class=\"sk-toggleable__content\"><pre>OneHotEncoder()</pre></div></div></div></div></div>"
      ],
      "text/plain": [
       "OneHotEncoder()"
      ]
     },
     "execution_count": 18,
     "metadata": {},
     "output_type": "execute_result"
    }
   ],
   "source": [
    "on=OneHotEncoder()\n",
    "on.fit(x[['car_name','registration_year','insurance_validity','fuel_type','seats','kms_driven','ownsership','transmission','mileage(kmpl)','engine(cc)','torque(Nm)']])"
   ]
  },
  {
   "cell_type": "code",
   "execution_count": 19,
   "id": "e44679ff",
   "metadata": {
    "execution": {
     "iopub.execute_input": "2024-02-10T15:02:57.339654Z",
     "iopub.status.busy": "2024-02-10T15:02:57.339205Z",
     "iopub.status.idle": "2024-02-10T15:02:57.345724Z",
     "shell.execute_reply": "2024-02-10T15:02:57.344155Z"
    },
    "papermill": {
     "duration": 0.020347,
     "end_time": "2024-02-10T15:02:57.348598",
     "exception": false,
     "start_time": "2024-02-10T15:02:57.328251",
     "status": "completed"
    },
    "tags": []
   },
   "outputs": [],
   "source": [
    "colum_trnas=make_column_transformer((OneHotEncoder(categories=on.categories_),['car_name','registration_year','insurance_validity','fuel_type','seats','kms_driven','ownsership','transmission','mileage(kmpl)','engine(cc)','torque(Nm)']),\n",
    "                                   remainder='passthrough')"
   ]
  },
  {
   "cell_type": "code",
   "execution_count": 20,
   "id": "21ea47db",
   "metadata": {
    "execution": {
     "iopub.execute_input": "2024-02-10T15:02:57.370046Z",
     "iopub.status.busy": "2024-02-10T15:02:57.369671Z",
     "iopub.status.idle": "2024-02-10T15:03:18.566386Z",
     "shell.execute_reply": "2024-02-10T15:03:18.564979Z"
    },
    "papermill": {
     "duration": 21.211313,
     "end_time": "2024-02-10T15:03:18.569297",
     "exception": false,
     "start_time": "2024-02-10T15:02:57.357984",
     "status": "completed"
    },
    "tags": []
   },
   "outputs": [],
   "source": [
    "scores=[]\n",
    "for i in range(300):\n",
    "    x_train,x_test,y_train,y_test=train_test_split(x,y,test_size=0.2,random_state=i)\n",
    "    lr=LinearRegression()\n",
    "    pipe=make_pipeline(colum_trnas,lr)\n",
    "    pipe.fit(x_train,y_train)\n",
    "    y_pred=pipe.predict(x_test)\n",
    "    scores.append(r2_score(y_test,y_pred))\n",
    "    \n",
    "    "
   ]
  },
  {
   "cell_type": "code",
   "execution_count": 21,
   "id": "4b3d6f06",
   "metadata": {
    "execution": {
     "iopub.execute_input": "2024-02-10T15:03:18.590011Z",
     "iopub.status.busy": "2024-02-10T15:03:18.589380Z",
     "iopub.status.idle": "2024-02-10T15:03:18.598313Z",
     "shell.execute_reply": "2024-02-10T15:03:18.596784Z"
    },
    "papermill": {
     "duration": 0.02281,
     "end_time": "2024-02-10T15:03:18.601274",
     "exception": false,
     "start_time": "2024-02-10T15:03:18.578464",
     "status": "completed"
    },
    "tags": []
   },
   "outputs": [
    {
     "data": {
      "text/plain": [
       "0.8369025208123488"
      ]
     },
     "execution_count": 21,
     "metadata": {},
     "output_type": "execute_result"
    }
   ],
   "source": [
    "max(scores)"
   ]
  },
  {
   "cell_type": "code",
   "execution_count": 22,
   "id": "1596f31a",
   "metadata": {
    "execution": {
     "iopub.execute_input": "2024-02-10T15:03:18.626704Z",
     "iopub.status.busy": "2024-02-10T15:03:18.626178Z",
     "iopub.status.idle": "2024-02-10T15:03:18.635264Z",
     "shell.execute_reply": "2024-02-10T15:03:18.633950Z"
    },
    "papermill": {
     "duration": 0.02682,
     "end_time": "2024-02-10T15:03:18.638090",
     "exception": false,
     "start_time": "2024-02-10T15:03:18.611270",
     "status": "completed"
    },
    "tags": []
   },
   "outputs": [
    {
     "data": {
      "text/plain": [
       "245"
      ]
     },
     "execution_count": 22,
     "metadata": {},
     "output_type": "execute_result"
    }
   ],
   "source": [
    "import numpy as np\n",
    "np.argmax(scores)"
   ]
  },
  {
   "cell_type": "code",
   "execution_count": 23,
   "id": "5f834f70",
   "metadata": {
    "execution": {
     "iopub.execute_input": "2024-02-10T15:03:18.658568Z",
     "iopub.status.busy": "2024-02-10T15:03:18.658017Z",
     "iopub.status.idle": "2024-02-10T15:03:18.747803Z",
     "shell.execute_reply": "2024-02-10T15:03:18.746390Z"
    },
    "papermill": {
     "duration": 0.103728,
     "end_time": "2024-02-10T15:03:18.750920",
     "exception": false,
     "start_time": "2024-02-10T15:03:18.647192",
     "status": "completed"
    },
    "tags": []
   },
   "outputs": [],
   "source": [
    "x_train,x_test,y_train,y_test=train_test_split(x,y,test_size=0.2,random_state=np.argmax(scores))\n",
    "lr=LinearRegression()\n",
    "pipe=make_pipeline(colum_trnas,lr)\n",
    "pipe.fit(x_train,y_train)\n",
    "y_pred=pipe.predict(x_test)\n",
    "scores.append(r2_score(y_test,y_pred))\n",
    "    "
   ]
  },
  {
   "cell_type": "code",
   "execution_count": 24,
   "id": "09afcda9",
   "metadata": {
    "execution": {
     "iopub.execute_input": "2024-02-10T15:03:18.771247Z",
     "iopub.status.busy": "2024-02-10T15:03:18.770760Z",
     "iopub.status.idle": "2024-02-10T15:03:18.777843Z",
     "shell.execute_reply": "2024-02-10T15:03:18.776258Z"
    },
    "papermill": {
     "duration": 0.020654,
     "end_time": "2024-02-10T15:03:18.780586",
     "exception": false,
     "start_time": "2024-02-10T15:03:18.759932",
     "status": "completed"
    },
    "tags": []
   },
   "outputs": [],
   "source": [
    "import pickle\n",
    "\n",
    "pickle.dump(pipe, open('LinerRegration_model.pkl','wb'))\n"
   ]
  },
  {
   "cell_type": "code",
   "execution_count": 25,
   "id": "4574f6fc",
   "metadata": {
    "execution": {
     "iopub.execute_input": "2024-02-10T15:03:18.801770Z",
     "iopub.status.busy": "2024-02-10T15:03:18.801242Z",
     "iopub.status.idle": "2024-02-10T15:03:18.806271Z",
     "shell.execute_reply": "2024-02-10T15:03:18.804974Z"
    },
    "papermill": {
     "duration": 0.01916,
     "end_time": "2024-02-10T15:03:18.808721",
     "exception": false,
     "start_time": "2024-02-10T15:03:18.789561",
     "status": "completed"
    },
    "tags": []
   },
   "outputs": [],
   "source": [
    "# import datetime\n",
    "# d=datetime.datetime.strptime('2010-10-1','%Y-%m-%d')\n",
    "# # type(d)\n",
    "# pipe.predict(pd.DataFrame([['Maruti Swift Dzire',d,'Comprehensive','Petrol',5,30615,'First Owner','Automatic',17.40,999.0,8314.0]],columns=['car_name','registration_year','insurance_validity','fuel_type','seats','kms_driven','ownsership','transmission','mileage(kmpl)','engine(cc)','torque(Nm)']))"
   ]
  },
  {
   "cell_type": "code",
   "execution_count": null,
   "id": "f5697812",
   "metadata": {
    "papermill": {
     "duration": 0.009114,
     "end_time": "2024-02-10T15:03:18.828257",
     "exception": false,
     "start_time": "2024-02-10T15:03:18.819143",
     "status": "completed"
    },
    "tags": []
   },
   "outputs": [],
   "source": []
  },
  {
   "cell_type": "code",
   "execution_count": null,
   "id": "b59c30db",
   "metadata": {
    "papermill": {
     "duration": 0.008671,
     "end_time": "2024-02-10T15:03:18.846061",
     "exception": false,
     "start_time": "2024-02-10T15:03:18.837390",
     "status": "completed"
    },
    "tags": []
   },
   "outputs": [],
   "source": []
  },
  {
   "cell_type": "code",
   "execution_count": null,
   "id": "7c2a09bf",
   "metadata": {
    "papermill": {
     "duration": 0.008841,
     "end_time": "2024-02-10T15:03:18.864182",
     "exception": false,
     "start_time": "2024-02-10T15:03:18.855341",
     "status": "completed"
    },
    "tags": []
   },
   "outputs": [],
   "source": []
  },
  {
   "cell_type": "code",
   "execution_count": null,
   "id": "e73a0656",
   "metadata": {
    "papermill": {
     "duration": 0.008674,
     "end_time": "2024-02-10T15:03:18.882208",
     "exception": false,
     "start_time": "2024-02-10T15:03:18.873534",
     "status": "completed"
    },
    "tags": []
   },
   "outputs": [],
   "source": []
  },
  {
   "cell_type": "code",
   "execution_count": null,
   "id": "66e10c5a",
   "metadata": {
    "papermill": {
     "duration": 0.009206,
     "end_time": "2024-02-10T15:03:18.901010",
     "exception": false,
     "start_time": "2024-02-10T15:03:18.891804",
     "status": "completed"
    },
    "tags": []
   },
   "outputs": [],
   "source": []
  }
 ],
 "metadata": {
  "kaggle": {
   "accelerator": "none",
   "dataSources": [
    {
     "datasetId": 4227740,
     "sourceId": 7289811,
     "sourceType": "datasetVersion"
    }
   ],
   "dockerImageVersionId": 30646,
   "isGpuEnabled": false,
   "isInternetEnabled": false,
   "language": "python",
   "sourceType": "notebook"
  },
  "kernelspec": {
   "display_name": "Python 3",
   "language": "python",
   "name": "python3"
  },
  "language_info": {
   "codemirror_mode": {
    "name": "ipython",
    "version": 3
   },
   "file_extension": ".py",
   "mimetype": "text/x-python",
   "name": "python",
   "nbconvert_exporter": "python",
   "pygments_lexer": "ipython3",
   "version": "3.10.13"
  },
  "papermill": {
   "default_parameters": {},
   "duration": 28.775386,
   "end_time": "2024-02-10T15:03:19.836327",
   "environment_variables": {},
   "exception": null,
   "input_path": "__notebook__.ipynb",
   "output_path": "__notebook__.ipynb",
   "parameters": {},
   "start_time": "2024-02-10T15:02:51.060941",
   "version": "2.5.0"
  }
 },
 "nbformat": 4,
 "nbformat_minor": 5
}
